{
  "nbformat": 4,
  "nbformat_minor": 0,
  "metadata": {
    "colab": {
      "provenance": [],
      "authorship_tag": "ABX9TyOJJOPtlFWqDWikYogEHBqC",
      "include_colab_link": true
    },
    "kernelspec": {
      "name": "python3",
      "display_name": "Python 3"
    },
    "language_info": {
      "name": "python"
    }
  },
  "cells": [
    {
      "cell_type": "markdown",
      "metadata": {
        "id": "view-in-github",
        "colab_type": "text"
      },
      "source": [
        "<a href=\"https://colab.research.google.com/github/AlexanderKearney-eng/Algorithmic-Thinking/blob/main/22_number_guessing.ipynb\" target=\"_parent\"><img src=\"https://colab.research.google.com/assets/colab-badge.svg\" alt=\"Open In Colab\"/></a>"
      ]
    },
    {
      "cell_type": "code",
      "execution_count": null,
      "metadata": {
        "colab": {
          "base_uri": "https://localhost:8080/"
        },
        "id": "yFStayJ37UFZ",
        "outputId": "f8434415-bb18-41ad-bb00-98062e3be734"
      },
      "outputs": [
        {
          "output_type": "stream",
          "name": "stdout",
          "text": [
            "This program generates a number-guessing game.\n",
            "Please enter your desired range. Separate the two values with a comma: 4, 16\n",
            "Please enter a value between 4 and 16: 16\n",
            "Unlucky!! Your guess of 16 was not equal to the generated number of 14.\n"
          ]
        }
      ],
      "source": [
        "print(\"This program generates a number-guessing game.\")\n",
        "from random import randint\n",
        "\n",
        "# Define function to generate and assess random number\n",
        "def gen_compare(a, b, n):\n",
        "  \"\"\"\n",
        "  Generate a random number and compare it to the input.\n",
        "\n",
        "  Args:\n",
        "    a (int): The minimum value in the range\n",
        "    b (int): The maximum value in the range (exclusive)\n",
        "    n (int): The input number to compare against the random one\n",
        "\n",
        "  Returns:\n",
        "    bool: States whether the generated and input numbers are equal\n",
        "  \"\"\"\n",
        "  m = randint(a,b)\n",
        "  if n==m:\n",
        "    return True, m\n",
        "  return False, m\n",
        "\n",
        "\n",
        "# Request and validate range from user\n",
        "valid = False\n",
        "while not valid:\n",
        "  user_range = input(\"Please enter your desired range. Separate the two values with a comma: \").strip()\n",
        "  # Check input is not empty\n",
        "  if not user_range:\n",
        "    print(\"Error: empty inputs are invalid.\")\n",
        "    continue\n",
        "  # Check number of inputs\n",
        "  user_range = user_range.split(',')\n",
        "  if len(user_range) == 1:\n",
        "    print(\"Error: not enough inputs. Please enter two.\")\n",
        "    continue\n",
        "  elif len(user_range) > 2:\n",
        "    print(\"Error: too many inputs. Please enter two.\")\n",
        "    continue\n",
        "  # Check inputs are integers\n",
        "  try:\n",
        "    min_range = int(user_range[0])\n",
        "    max_range = int(user_range[1])\n",
        "  except ValueError:\n",
        "    print(\"Error: invalid input detected. Please enter two integers.\")\n",
        "    continue\n",
        "  # Check that the first number is smaller than the second\n",
        "  if min_range >= max_range:\n",
        "    print(\"Error: the minimum must be smaller than the maximum. Please try again.\")\n",
        "    continue\n",
        "\n",
        "  # Exit the loop if the input passes validation\n",
        "  valid = True\n",
        "\n",
        "\n",
        "# Collect and validate guess from user\n",
        "valid = False\n",
        "while not valid:\n",
        "  user_guess = input(f\"Please enter a value between {min_range} and {max_range}: \").strip()\n",
        "  # Check input is not empty\n",
        "  if not user_guess:\n",
        "    print(\"Error: empty input detected.\")\n",
        "    continue\n",
        "  # Check input is an integer\n",
        "  try:\n",
        "    user_guess = int(user_guess)\n",
        "  except ValueError:\n",
        "    print(\"Error: invalid input detected. Please make sure your guess is an integer.\")\n",
        "    continue\n",
        "  # Check input is in range\n",
        "  if user_guess not in range(min_range,max_range+1):\n",
        "    print(\"Error: guess is out of range.\")\n",
        "    continue\n",
        "  # break loop if input passes validation\n",
        "  valid = True\n",
        "\n",
        "\n",
        "# Compare input and result to user\n",
        "result, random_val = gen_compare(min_range, max_range, user_guess)\n",
        "if result:\n",
        "  print(f\"Correct! The number randomly generated was {random_val}. Well done!!!\")\n",
        "else:\n",
        "  print(f\"Unlucky!! Your guess of {user_guess} was not equal to the generated number of {random_val}.\")"
      ]
    },
    {
      "cell_type": "code",
      "source": [
        "a = int(3)\n",
        "b = int(13)\n",
        "n = int(9)\n",
        "\n",
        "if n not in range(a,b):\n",
        "  print(\"Incorrect.\")\n",
        "else:\n",
        "  print(\"Correct\")"
      ],
      "metadata": {
        "colab": {
          "base_uri": "https://localhost:8080/"
        },
        "id": "jTxtTmkX-akJ",
        "outputId": "ef27101d-98f3-46e6-9e95-90fc850e58c6"
      },
      "execution_count": null,
      "outputs": [
        {
          "output_type": "stream",
          "name": "stdout",
          "text": [
            "Correct\n"
          ]
        }
      ]
    }
  ]
}