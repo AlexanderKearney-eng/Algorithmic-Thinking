{
  "nbformat": 4,
  "nbformat_minor": 0,
  "metadata": {
    "colab": {
      "provenance": [],
      "authorship_tag": "ABX9TyPXOaY6EQEXPMQ0YLoAQNXH",
      "include_colab_link": true
    },
    "kernelspec": {
      "name": "python3",
      "display_name": "Python 3"
    },
    "language_info": {
      "name": "python"
    }
  },
  "cells": [
    {
      "cell_type": "markdown",
      "metadata": {
        "id": "view-in-github",
        "colab_type": "text"
      },
      "source": [
        "<a href=\"https://colab.research.google.com/github/AlexanderKearney-eng/Algorithmic-Thinking/blob/main/21_fibonacci.ipynb\" target=\"_parent\"><img src=\"https://colab.research.google.com/assets/colab-badge.svg\" alt=\"Open In Colab\"/></a>"
      ]
    },
    {
      "cell_type": "code",
      "execution_count": 88,
      "metadata": {
        "colab": {
          "base_uri": "https://localhost:8080/"
        },
        "id": "NcvB9xtoUGLx",
        "outputId": "f41250fa-7f0e-464e-e7f0-166e23cf00ab"
      },
      "outputs": [
        {
          "output_type": "stream",
          "name": "stdout",
          "text": [
            "This program generates the first n numbers of the Fibonacci Sequence.\n",
            "Enter a positive number: 20\n",
            "The first 20 fibonacci numbers are: 1, 1, 2, 3, 5, 8, 13, 21, 34, 55, 89, 144, 233, 377, 610, 987, 1597, 2584, 4181, 6765\n",
            "Help on function fibonacci in module __main__:\n",
            "\n",
            "fibonacci(n)\n",
            "    Generate the first n numbers of the Fibonacci sequence.\n",
            "    \n",
            "    Args:\n",
            "      n (int): The number of terms to generate.\n",
            "    \n",
            "    Returns:\n",
            "      list: A list containing the first n Fibonacci numbers.\n",
            "\n"
          ]
        }
      ],
      "source": [
        "print(\"This program generates the first n numbers of the Fibonacci Sequence.\")\n",
        "\n",
        "# Define a function to generate fibonnaci numbers/sequences\n",
        "def fibonacci(n):\n",
        "  \"\"\"\n",
        "  Generate the first n numbers of the Fibonacci sequence.\n",
        "\n",
        "  Args:\n",
        "    n (int): The number of terms to generate.\n",
        "\n",
        "  Returns:\n",
        "    list: A list containing the first n Fibonacci numbers.\n",
        "  \"\"\"\n",
        "  fib_seq = [1]    # Define first term of fibonnaci sequence\n",
        "  for k in range(1, n):\n",
        "    if k==1:\n",
        "      fib_seq.append(1)    # add the second term to the fibonnaci sequence (if applicable)\n",
        "    else:\n",
        "      fib_seq.append(sum(fib_seq[-2:k]))\n",
        "  return fib_seq\n",
        "\n",
        "# Collect and validate user input\n",
        "valid = False   # Initial state of validity\n",
        "while not valid:     # Loop runs while input is not valid\n",
        "  user_input = input(\"Enter a positive number: \")\n",
        "  if user_input.isdigit():     # Check if input is a digit\n",
        "    n = int(user_input)\n",
        "    if n >= 1:    # Check if number is in range\n",
        "      valid = True     # Mark as valid to exit the loop\n",
        "    else:\n",
        "      print(\"ERROR: Input is out of range. Please try again.\")\n",
        "  else:\n",
        "    print(\"ERROR: Invalid input. Please enter a number.\")\n",
        "\n",
        "# Generate the fibonnaci sequence\n",
        "fib_seq = [str(k) for k in fibonacci(n)]\n",
        "fib_lst = ', '.join(fib_seq)\n",
        "\n",
        "# Return result to user\n",
        "if n==1:\n",
        "  print(f\"The first fibonacci number is {fib_lst}\")\n",
        "else:\n",
        "  print(f\"The first {n} fibonacci numbers are: {fib_lst}\")"
      ]
    }
  ]
}