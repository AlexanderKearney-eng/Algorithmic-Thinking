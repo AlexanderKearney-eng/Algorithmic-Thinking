{
  "nbformat": 4,
  "nbformat_minor": 0,
  "metadata": {
    "colab": {
      "provenance": []
    },
    "kernelspec": {
      "name": "python3",
      "display_name": "Python 3"
    },
    "language_info": {
      "name": "python"
    }
  },
  "cells": [
    {
      "cell_type": "code",
      "execution_count": null,
      "metadata": {
        "id": "ekY65f8-oJTG",
        "colab": {
          "base_uri": "https://localhost:8080/"
        },
        "outputId": "85584880-a294-4419-e615-051544bfd07a"
      },
      "outputs": [
        {
          "output_type": "stream",
          "name": "stdout",
          "text": [
            "This program checks if a number is prime.\n",
            "Please enter a positive integer:  72\n",
            "The number 72 is not prime.\n"
          ]
        }
      ],
      "source": [
        "# Prime numbers checker\n",
        "print(\"This program checks if a number is prime.\")\n",
        "import math as m\n",
        "\n",
        "# Define a function to check if a number is prime\n",
        "def prime_check(n):\n",
        "  # Handle edge cases\n",
        "  if n==1:\n",
        "    return False     # 1 is not a prime number by definition\n",
        "  elif n==2:\n",
        "    return True     # 2 is the only even prime number\n",
        "  # For all other numbers, look for divisors and respond accordingly\n",
        "  else:\n",
        "    for k in range(2, m.ceil(m.sqrt(n)+1)):\n",
        "      if n % k == 0:\n",
        "        return False\n",
        "    return True\n",
        "\n",
        "# Create an infinite loop to validate user input\n",
        "while True:\n",
        "  number = input(\"Please enter a positive integer:  \")\n",
        "\n",
        "  try:\n",
        "    processed = int(number)\n",
        "    if processed <= 0:\n",
        "      raise ValueError\n",
        "  except ValueError:\n",
        "    print(\"Error: Please enter a positive integer.\")\n",
        "    continue\n",
        "\n",
        "  break\n",
        "\n",
        "# Check if the number is prime\n",
        "\n",
        "result = prime_check(processed)\n",
        "\n",
        "# Return result to user\n",
        "if result:\n",
        "  print(f\"The number {processed} is prime.\")\n",
        "else:\n",
        "  print(f\"The number {processed} is not prime.\")"
      ]
    },
    {
      "cell_type": "code",
      "source": [
        "for k in range(1, 10):\n",
        "  if k==7:\n",
        "    break\n",
        "  else:\n",
        "    print(k)"
      ],
      "metadata": {
        "colab": {
          "base_uri": "https://localhost:8080/"
        },
        "id": "dRuyy4JVOWoW",
        "outputId": "7f490e5a-2ab6-474b-ae7b-bb0595fdbda3"
      },
      "execution_count": null,
      "outputs": [
        {
          "output_type": "stream",
          "name": "stdout",
          "text": [
            "1\n",
            "2\n",
            "3\n",
            "4\n",
            "5\n",
            "6\n"
          ]
        }
      ]
    }
  ]
}